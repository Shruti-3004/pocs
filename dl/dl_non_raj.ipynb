{
 "cells": [
  {
   "cell_type": "code",
   "execution_count": null,
   "metadata": {},
   "outputs": [],
   "source": [
    "import os\n",
    "import glob\n",
    "import shutil\n",
    "import cv2\n",
    "\n",
    "\n",
    "combinations = ['convert_to_rgb-set_dpi']\n",
    "# combinations = ['set_dpi-increase_contrast-increase_sharpness']\n",
    "\n",
    "image_path = 'C:\\matsya\\india_dl'\n",
    "for image in glob.glob(image_path+'\\\\*.jpg'):\n",
    "    # filename = os.path.split(image)[-1].split('.jpg')[0]\n",
    "    # print(filename)\n",
    "    # preproc_image = 'preprocessed_ensemble\\\\'+filename+'.jpg'\n",
    "    # shutil.copy(image, preproc_image)\n",
    "    for combination in combinations:\n",
    "        filename = os.path.split(image)[-1].split('.jpg')[0]\n",
    "        preproc_image = image_path+'\\\\preprocessed_images3\\\\'+filename+'.jpg'\n",
    "        shutil.copy(image, preproc_image)\n",
    "        methods = combination.split('-')\n",
    "        for method in methods:\n",
    "            if 'deskew' in method:\n",
    "                preproc_image = eval(method+'(preproc_image)')\n",
    "            else:\n",
    "                preproc_image = eval(method+'(preproc_image, preproc_image)')\n",
    "        # print(combination)\n",
    "        image_name = image_path+'\\\\preprocessed_images3\\\\'+filename+'_'+combination+'.jpg'\n",
    "        img = cv2.imread(preproc_image)\n",
    "        cv2.imwrite(image_name, img)\n",
    "\n",
    "        psm_values = [6]\n",
    "\n",
    "        for psm in psm_values:\n",
    "\n",
    "            parsed_output = image_path+'\\\\output3\\\\'+filename+'_'+combination+'_'+str(psm)\n",
    "            command = 'tesseract {} {} -l eng --psm {}'.format(preproc_image, parsed_output, psm)\n",
    "            os.system(command)"
   ]
  },
  {
   "cell_type": "code",
   "execution_count": null,
   "metadata": {},
   "outputs": [],
   "source": [
    "import glob\n",
    "import os\n",
    "\n",
    "for file in glob.glob('C:\\matsya\\india_dl_preproc\\\\*lokesh*.txt'):\n",
    "    with open(file, 'r', encoding='utf-8') as fp:\n",
    "        text = fp.read()\n",
    "    text = text.splitlines()\n",
    "    text = [line for line in text if not line.isspace() and len(line) > 0]\n",
    "    filename = os.path.split(file)[-1].split('.txt')[0]\n",
    "\n",
    "    print(text)"
   ]
  },
  {
   "cell_type": "code",
   "execution_count": 17,
   "metadata": {},
   "outputs": [],
   "source": [
    "################### ensemble the output files #####################\n",
    "\n",
    "import glob\n",
    "import os\n",
    "\n",
    "def ensemble_output():\n",
    "\n",
    "    for file in glob.glob('C:\\matsya\\india_dl_preproc\\\\*puneet*.txt'):\n",
    "        filename = os.path.split(file)[-1].split('.txt')[0]\n",
    "        ind = filename.index('dl')\n",
    "        filename = filename[:ind+2]\n",
    "        # print(filename)\n",
    "        with open(file, encoding=\"utf-8\") as fp:\n",
    "                # read the file\n",
    "                text = fp.read()\n",
    "                # open new file and append text of files for the same name \n",
    "                with open('C:/matsya/india_dl_preproc/ensemble_files/{}.txt'.format(filename), 'a') as file:\n",
    "                    # to separate the text of multiple configuration using ---\n",
    "                    file.write(text+\"\\n---\"+\"\\n\")\n",
    "\n",
    "ensemble_output()"
   ]
  },
  {
   "cell_type": "code",
   "execution_count": 34,
   "metadata": {},
   "outputs": [
    {
     "name": "stdout",
     "output_type": "stream",
     "text": [
      "HR26 20170006785\n",
      "LOKESH YADAV\n",
      "10-Sep-1998\n",
      "BHUPINDRA SINGH\n",
      "11-Apr-2037\n",
      "12-Apr-2017\n",
      "B+\n",
      "282 TikK167),Gurgaon,HR 122001 \n",
      "\n",
      "UP81 20220025702\n",
      "PUNEET KUMAR GAUR\n",
      "20-09-2000\n",
      "SUDHIR KUMAR GAUR\n",
      "19-09-2040\n",
      "01-12-2022\n",
      "\n",
      "5/86 NEAR ITI HARI VILAS NAGAR Koil, Aligarh, UP 202001 \n",
      "\n"
     ]
    }
   ],
   "source": [
    "import re\n",
    "import glob\n",
    "import os\n",
    "from datetime import datetime\n",
    "\n",
    "keys = {\n",
    "    'dob': ['dob', 'date of birth']\n",
    "}\n",
    "\n",
    "def get_dl_number(text):\n",
    "    for line in text:\n",
    "        regex = r'(([A-Z]{2}[0-9]{2})( )|([A-Z]{2}-[0-9]{2}))((19|20)[0-9][0-9])[0-9]{7}$'\n",
    "        dl = re.search(regex, line)\n",
    "        if dl:\n",
    "            return dl.group()\n",
    "        \n",
    "def get_name(text):\n",
    "    for i in range(len(text)):\n",
    "        if 'name' in text[i].lower():\n",
    "            name = text[i+1]\n",
    "            return name\n",
    "        \n",
    "def get_dob(text):\n",
    "    for i in range(len(text)):\n",
    "        # print([word for word in keys['dob']])\n",
    "        found = any(word in text[i].lower() for word in keys['dob'])\n",
    "        # print(found)\n",
    "        if found:\n",
    "            return text[i+1]\n",
    "\n",
    "def get_care_of_relation_name(text):\n",
    "    cor = ''\n",
    "    keys = ['Son', 'Daughter', 'Wife', 'S/W/D']\n",
    "    for i in range(len(text)):\n",
    "        for key in keys:\n",
    "            if key in text[i]:\n",
    "                cor = text[i+1]\n",
    "                return cor\n",
    "            \n",
    "def is_date(date):\n",
    "    formats = ['%d-%b-%Y', '%d-%m-%Y']\n",
    "    \n",
    "    for date_format in formats:\n",
    "        try:\n",
    "            d = datetime.strptime(str(date), date_format)\n",
    "            d = datetime.strftime(d, date_format)\n",
    "            return d\n",
    "        except ValueError:\n",
    "            continue\n",
    "    return False\n",
    "\n",
    "def get_validity_date(text):\n",
    "    for i in range(len(text)):\n",
    "        if 'validity' in text[i].lower():\n",
    "            for j in range(i, len(text)):\n",
    "                d = is_date(text[j].split()[-1].strip())\n",
    "                if d:\n",
    "                    return d\n",
    "\n",
    "def get_issue_date(text):\n",
    "    d = ''\n",
    "    vd = get_validity_date(text)\n",
    "    for i in range(len(text)):\n",
    "        if 'issue date' in text[i].lower():\n",
    "            for j in range(i, len(text)):\n",
    "                d = is_date(text[j].split()[-1].strip())\n",
    "                if d and vd and d<vd:\n",
    "                    return d\n",
    "                \n",
    "def get_blood_group(text):\n",
    "    bg = ''\n",
    "    pattern = '(A|B|AB|O)[+-]'\n",
    "    for i in range(len(text)):\n",
    "        bg = re.search(pattern, text[i])\n",
    "        if bg:\n",
    "            return bg.group()\n",
    "\n",
    "def get_address(text):\n",
    "    address = ''\n",
    "    for i in range(len(text)):\n",
    "        if 'address' in text[i].lower():\n",
    "            for j in range(i+1, len(text)):\n",
    "                address += text[j]+' '\n",
    "                a = text[j].split()[-1]\n",
    "                if len(a) == 6 and a.isnumeric() and address:\n",
    "                    return address\n",
    "                \n",
    "\n",
    "for file in glob.glob('C:\\pocs\\dl\\ensemble_files/*.txt'):\n",
    "    # print(file)\n",
    "    dl_number_final = ''\n",
    "    name_final = ''\n",
    "    dob_final = ''\n",
    "    cor_final = ''\n",
    "    val_date_final = ''\n",
    "    issue_date_final = ''\n",
    "    blood_group_final = ''\n",
    "    address_final = ''\n",
    "\n",
    "    ind = len(filename.split('\\\\'))-1\n",
    "    with open(file) as fp:\n",
    "\n",
    "        filename = os.path.split(file)[-1]\n",
    "        words = filename.split('_')\n",
    "        for i in range(len(words)):\n",
    "            if 'page' in words[i]:\n",
    "                ind = i\n",
    "                break\n",
    "        filename = '_'.join(words[:ind])\n",
    "        # print(filename)\n",
    "\n",
    "        texts = fp.read().split(\"---\\n\")\n",
    "        # pprint(texts)\n",
    "        for text in texts:\n",
    "            text = text.splitlines()\n",
    "            text = [line for line in text if not line.isspace() and len(line) > 0]\n",
    "            filename = os.path.split(file)[-1].split('.txt')[0]\n",
    "\n",
    "            dl_number = get_dl_number(text)\n",
    "            if dl_number and not dl_number_final:\n",
    "                dl_number_final = dl_number\n",
    "\n",
    "            name = get_name(text)\n",
    "            if name and not name_final:\n",
    "                name_final = name\n",
    "\n",
    "            dob = get_dob(text)\n",
    "            if dob and not dob_final:\n",
    "                dob_final = dob\n",
    "\n",
    "            cor = get_care_of_relation_name(text)\n",
    "            if cor and not cor_final:\n",
    "                cor_final = cor\n",
    "\n",
    "            val_date = get_validity_date(text)\n",
    "            if val_date and not val_date_final:\n",
    "                val_date_final = val_date\n",
    "\n",
    "            issue_date = get_issue_date(text)\n",
    "            if issue_date and not issue_date_final:\n",
    "                issue_date_final = issue_date\n",
    "\n",
    "            blood_group = get_blood_group(text)\n",
    "            if blood_group and not blood_group_final:\n",
    "                blood_group_final = blood_group\n",
    "\n",
    "            address = get_address(text)\n",
    "            if address and not address_final:\n",
    "                address_final = address\n",
    "    \n",
    "    print(dl_number_final)\n",
    "    print(name_final)\n",
    "    print(dob_final)\n",
    "    print(cor_final)\n",
    "    print(val_date_final)\n",
    "    print(issue_date_final)\n",
    "    print(blood_group_final)\n",
    "    print(address_final)\n",
    "    print()"
   ]
  },
  {
   "cell_type": "code",
   "execution_count": 31,
   "metadata": {},
   "outputs": [
    {
     "name": "stdout",
     "output_type": "stream",
     "text": [
      "HR26 20170006785\n"
     ]
    }
   ],
   "source": [
    "s = 'DLNUMBER HR26 20170006785'\n",
    "r = r'(([A-Z]{2}[0-9]{2})( )|([A-Z]{2}-[0-9]{2}))((19|20)[0-9][0-9])[0-9]{7}$'\n",
    "res = re.search(r, s)\n",
    "print(res.group())"
   ]
  },
  {
   "cell_type": "code",
   "execution_count": 43,
   "metadata": {},
   "outputs": [
    {
     "name": "stdout",
     "output_type": "stream",
     "text": [
      "LOKESH YADAV\n"
     ]
    }
   ],
   "source": [
    "print('LOKESH YADAV'.strip(' '))"
   ]
  },
  {
   "cell_type": "code",
   "execution_count": 15,
   "metadata": {},
   "outputs": [
    {
     "name": "stdout",
     "output_type": "stream",
     "text": [
      "[0, 1, 3, 0, 4, '_', '_', '_']\n",
      "3\n"
     ]
    }
   ],
   "source": [
    "nums = [0,1,2,2,3,0,4,2]\n",
    "val = 2\n",
    "i=0\n",
    "k=0\n",
    "while nums[i] != '_':\n",
    "    if nums[i] == val:\n",
    "        nums.pop(i)\n",
    "        nums.append('_')\n",
    "        k += 1\n",
    "    else:\n",
    "        i += 1\n",
    "\n",
    "print(nums)\n",
    "print(k)"
   ]
  },
  {
   "cell_type": "code",
   "execution_count": 31,
   "metadata": {},
   "outputs": [],
   "source": [
    "class Solution:\n",
    "    def removeElement(self, nums, val):\n",
    "        i = 0\n",
    "        k = 0\n",
    "        if len(nums) > 0:\n",
    "            while i < len(nums) and nums[i] != '_':\n",
    "                if nums[i] == val:\n",
    "                    nums.pop(i)\n",
    "                    nums.append('_')\n",
    "                else:\n",
    "                    i += 1\n",
    "                    k += 1\n",
    "            print(nums)\n",
    "            return k"
   ]
  },
  {
   "cell_type": "code",
   "execution_count": 32,
   "metadata": {},
   "outputs": [
    {
     "name": "stdout",
     "output_type": "stream",
     "text": [
      "[3]\n",
      "1\n"
     ]
    }
   ],
   "source": [
    "obj = Solution()\n",
    "nums = [3]\n",
    "val = 2\n",
    "k = obj.removeElement(nums, val)\n",
    "print(k)"
   ]
  },
  {
   "cell_type": "code",
   "execution_count": 58,
   "metadata": {},
   "outputs": [],
   "source": [
    "class Solution:\n",
    "    def removeDuplicates(self, nums) -> int:\n",
    "        index = 0\n",
    "        k = 0\n",
    "        while index < len(nums)-1:\n",
    "\n",
    "            if nums[index] < nums[index+1]:\n",
    "                index += 1\n",
    "            else:\n",
    "                nums.pop(index+1)\n",
    "\n",
    "        print(nums)\n",
    "        k = len(nums)\n",
    "        return k"
   ]
  },
  {
   "cell_type": "code",
   "execution_count": 60,
   "metadata": {},
   "outputs": [
    {
     "name": "stdout",
     "output_type": "stream",
     "text": [
      "[0, 1, 2, 3, 4]\n"
     ]
    },
    {
     "data": {
      "text/plain": [
       "5"
      ]
     },
     "execution_count": 60,
     "metadata": {},
     "output_type": "execute_result"
    }
   ],
   "source": [
    "obj = Solution()\n",
    "nums = [0,0,1,1,1,2,2,3,3,4]\n",
    "obj.removeDuplicates(nums)"
   ]
  },
  {
   "cell_type": "code",
   "execution_count": 71,
   "metadata": {},
   "outputs": [],
   "source": [
    "class Solution:\n",
    "    def removeDuplicates(self, nums) -> int:\n",
    "        i=0\n",
    "        count = 1\n",
    "        while i < len(nums)-1:\n",
    "            if nums[i] == nums[i+1]:\n",
    "                count += 1\n",
    "                if count > 2:\n",
    "                    nums.pop(i+1)\n",
    "                    continue\n",
    "                i += 1\n",
    "            else:\n",
    "                count = 1\n",
    "                i += 1\n",
    "        print(nums)"
   ]
  },
  {
   "cell_type": "code",
   "execution_count": 73,
   "metadata": {},
   "outputs": [
    {
     "name": "stdout",
     "output_type": "stream",
     "text": [
      "[0, 0, 1, 1, 2, 3, 3]\n"
     ]
    }
   ],
   "source": [
    "obj = Solution()\n",
    "nums = [0,0,1,1,1,1,2,3,3]\n",
    "obj.removeDuplicates(nums)"
   ]
  },
  {
   "cell_type": "code",
   "execution_count": 90,
   "metadata": {},
   "outputs": [
    {
     "name": "stdout",
     "output_type": "stream",
     "text": [
      "0\n",
      "[1]\n"
     ]
    }
   ],
   "source": [
    "nums = [1]\n",
    "nums.sort()\n",
    "\n",
    "maj = len(nums)//2\n",
    "print(maj)\n",
    "m = 0\n",
    "\n",
    "for i in range(len(nums)-1):\n",
    "    if nums[i] == nums[i+1]:\n",
    "        m += 1\n",
    "        if m >= maj:\n",
    "            print(nums[i])\n",
    "            break\n",
    "    else:\n",
    "        m = 0\n",
    "print(nums)"
   ]
  },
  {
   "cell_type": "code",
   "execution_count": 108,
   "metadata": {},
   "outputs": [
    {
     "data": {
      "text/plain": [
       "[7, 1, 2, 3, 4, 5, 6]"
      ]
     },
     "execution_count": 108,
     "metadata": {},
     "output_type": "execute_result"
    }
   ],
   "source": [
    "k = 6\n",
    "nums = [1,2,3,4,5,6,7]\n",
    "# output = [5,6,7,1,2,3,4]\n",
    "l = len(nums)-1\n",
    "nums2 = nums[k+1:]\n",
    "nums[k+1:] = nums[:k]\n",
    "nums[:k] = nums2\n",
    "nums"
   ]
  },
  {
   "cell_type": "code",
   "execution_count": 110,
   "metadata": {},
   "outputs": [
    {
     "name": "stdout",
     "output_type": "stream",
     "text": [
      "[2, 3, 4, 5, 6, 7, 1]\n"
     ]
    }
   ],
   "source": [
    "k = 6\n",
    "nums = [1,2,3,4,5,6,7]\n",
    "\n",
    "for j in range(k):\n",
    "    t = nums[-1]\n",
    "    for i in range(len(nums)-2, -1, -1):\n",
    "        nums[i+1] = nums[i]\n",
    "    nums[0] = t\n",
    "\n",
    "print(nums)"
   ]
  },
  {
   "cell_type": "code",
   "execution_count": 141,
   "metadata": {},
   "outputs": [],
   "source": [
    "class Solution:\n",
    "    def rotate(self, nums, k) -> None:\n",
    "        \"\"\"\n",
    "        Do not return anything, modify nums in-place instead.\n",
    "        \"\"\"\n",
    "        nums2 = nums.copy()\n",
    "        last = len(nums)-1\n",
    "        for i in range(k):\n",
    "            nums[0] = nums2[-1]\n",
    "            nums[1:] = nums2[:last]\n",
    "            nums2 = nums.copy()\n",
    "        print(nums)\n",
    "        "
   ]
  },
  {
   "cell_type": "code",
   "execution_count": 142,
   "metadata": {},
   "outputs": [
    {
     "name": "stdout",
     "output_type": "stream",
     "text": [
      "[3, 99, -1, -100]\n"
     ]
    }
   ],
   "source": [
    "obj = Solution()\n",
    "nums = [-1,-100,3,99]\n",
    "k = 2\n",
    "obj.rotate(nums, k)"
   ]
  },
  {
   "cell_type": "code",
   "execution_count": 127,
   "metadata": {},
   "outputs": [
    {
     "name": "stdout",
     "output_type": "stream",
     "text": [
      "[1, 2, 3, 4, 5, 6]\n"
     ]
    }
   ],
   "source": [
    "nums = [1,2,3,4,5,6]\n",
    "nums2 = nums.copy()\n",
    "\n",
    "nums2[0] = nums[-1]\n",
    "# print(nums)\n",
    "nums2[1:] = nums[:last]\n",
    "\n",
    "# print(nums2)"
   ]
  },
  {
   "cell_type": "code",
   "execution_count": 181,
   "metadata": {},
   "outputs": [
    {
     "name": "stdout",
     "output_type": "stream",
     "text": [
      "1\n",
      "[3, 1, 2]\n"
     ]
    }
   ],
   "source": [
    "nums = [1,2,3]\n",
    "k = 7\n",
    "l = len(nums)\n",
    "\n",
    "if k>len(nums):\n",
    "    k=k%len(nums)\n",
    "print(k)\n",
    "\n",
    "for i in range(l//2):\n",
    "    t = nums[i]\n",
    "    nums[i] = nums[l-i-1]\n",
    "    nums[l-i-1] = t\n",
    "\n",
    "# print(nums)\n",
    "\n",
    "for i in range(k//2):\n",
    "    t = nums[i]\n",
    "    nums[i] = nums[k-i-1]\n",
    "    nums[k-i-1] = t\n",
    "\n",
    "j = k+((l-k)//2)\n",
    "\n",
    "m=0\n",
    "for i in range(k, j):\n",
    "    \n",
    "    t = nums[i]\n",
    "    nums[i] = nums[l-m-1]\n",
    "    nums[l-m-1] = t\n",
    "    m += 1\n",
    "\n",
    "print(nums)"
   ]
  },
  {
   "cell_type": "code",
   "execution_count": 177,
   "metadata": {},
   "outputs": [
    {
     "data": {
      "text/plain": [
       "1"
      ]
     },
     "execution_count": 177,
     "metadata": {},
     "output_type": "execute_result"
    }
   ],
   "source": [
    "4%3"
   ]
  },
  {
   "cell_type": "code",
   "execution_count": 189,
   "metadata": {},
   "outputs": [
    {
     "name": "stdout",
     "output_type": "stream",
     "text": [
      "8\n"
     ]
    }
   ],
   "source": [
    "prices = [7,6,4,3,1,9]\n",
    "\n",
    "max_profit = -1\n",
    "\n",
    "for i in range(len(prices)-1):\n",
    "    for j in range(i+1, len(prices)):\n",
    "        if max_profit < prices[j] - prices[i]:\n",
    "            max_profit = prices[j] - prices[i]\n",
    "\n",
    "if max_profit == -1:\n",
    "    max_profit = 0\n",
    "\n",
    "print(max_profit)"
   ]
  },
  {
   "cell_type": "code",
   "execution_count": 199,
   "metadata": {},
   "outputs": [
    {
     "name": "stdout",
     "output_type": "stream",
     "text": [
      "5\n"
     ]
    }
   ],
   "source": [
    "prices = [7,1,5,3,6,4]\n",
    "\n",
    "d = {}\n",
    "for i in range(len(prices)):\n",
    "    d[i] = prices[i]\n",
    "\n",
    "sorted_prices = dict(sorted(d.items(), key=lambda item: item[1], reverse=True))\n",
    "\n",
    "last_k = list(sorted_prices.keys())[0]\n",
    "last_v = sorted_prices[last_k]\n",
    "\n",
    "profit = 0\n",
    "for k,v in sorted_prices.items():\n",
    "    if k>last_k and v>last_v:\n",
    "        if profit < v-last_v:\n",
    "            profit = v-last_v\n",
    "\n",
    "print(profit)"
   ]
  },
  {
   "cell_type": "code",
   "execution_count": 213,
   "metadata": {},
   "outputs": [
    {
     "name": "stdout",
     "output_type": "stream",
     "text": [
      "1\n",
      "2\n",
      "3\n",
      "4\n",
      "10\n"
     ]
    }
   ],
   "source": [
    "prices = [1,2,3,4,5]\n",
    "\n",
    "buy = prices[0]\n",
    "loc_max = 0\n",
    "max_profit = 0\n",
    "\n",
    "for i in range(1, len(prices)):\n",
    "    # loc_max = 0\n",
    "\n",
    "    if prices[i] < prices[i-1]:\n",
    "        buy = prices[i]\n",
    "        # max_profit += loc_max\n",
    "        # loc_max = 0\n",
    "\n",
    "    elif prices[i]-buy > loc_max:\n",
    "        loc_max = prices[i]-buy\n",
    "        max_profit += loc_max\n",
    "        # loc_max = 0\n",
    "        print(loc_max)\n",
    "\n",
    "\n",
    "print(max_profit)"
   ]
  },
  {
   "cell_type": "code",
   "execution_count": 217,
   "metadata": {},
   "outputs": [
    {
     "name": "stdout",
     "output_type": "stream",
     "text": [
      "False\n"
     ]
    }
   ],
   "source": [
    "nums = [3,2,1,0,4]\n",
    "flag = 0\n",
    "for i in range(len(nums)):\n",
    "    if i+nums[i] == len(nums)-1:\n",
    "        print(True)\n",
    "        flag = 1\n",
    "        break\n",
    "if not flag:\n",
    "    print(False)"
   ]
  },
  {
   "cell_type": "code",
   "execution_count": 232,
   "metadata": {},
   "outputs": [
    {
     "name": "stdout",
     "output_type": "stream",
     "text": [
      "[-1, 8, 10, 19, 20, -16, 0, 0, 0]\n"
     ]
    }
   ],
   "source": [
    "nums = [-1, 8, 0, 0, 10, 19, 20, 0, -16]\n",
    "\n",
    "i = 0\n",
    "j = 1\n",
    "\n",
    "while j < len(nums):\n",
    "    if nums[j] == 0 and nums[i] != 0:\n",
    "        j += 1\n",
    "        i += 1\n",
    "    elif nums[i] == 0 and nums[j] != 0:\n",
    "        temp = nums[i]\n",
    "        nums[i] = nums[j]\n",
    "        nums[j] = temp\n",
    "        i += 1\n",
    "        j += 1\n",
    "    elif nums[i] == 0 and nums[j] == 0:\n",
    "        j += 1\n",
    "    elif nums[i] != 0 and nums[j] != 0:\n",
    "        i += 2\n",
    "        j += 2\n",
    "\n",
    "print(nums)"
   ]
  },
  {
   "cell_type": "code",
   "execution_count": 230,
   "metadata": {},
   "outputs": [
    {
     "name": "stdout",
     "output_type": "stream",
     "text": [
      "4\n"
     ]
    }
   ],
   "source": [
    "s = \"   fly me   to   the moon  \"\n",
    "\n",
    "s = s.strip()\n",
    "words = s.split()\n",
    "print(len(words[-1]))"
   ]
  },
  {
   "cell_type": "code",
   "execution_count": 30,
   "metadata": {},
   "outputs": [
    {
     "data": {
      "text/plain": [
       "False"
      ]
     },
     "execution_count": 30,
     "metadata": {},
     "output_type": "execute_result"
    }
   ],
   "source": [
    "s = '282 TikK167),Gurgaon,HR 122001'\n",
    "s.isalnum()"
   ]
  },
  {
   "cell_type": "code",
   "execution_count": 13,
   "metadata": {},
   "outputs": [
    {
     "name": "stdout",
     "output_type": "stream",
     "text": [
      "0\n"
     ]
    }
   ],
   "source": [
    "import os\n",
    "\n",
    "img = 'C:/matsya/india_dl/puneet_dl_original.jpg'\n",
    "command = 'tesseract {} output2 -l eng --psm 4'.format(img)\n",
    "print(os.system(command))"
   ]
  },
  {
   "cell_type": "code",
   "execution_count": 1,
   "metadata": {},
   "outputs": [
    {
     "name": "stdout",
     "output_type": "stream",
     "text": [
      "hello\n"
     ]
    }
   ],
   "source": [
    "print('hello')"
   ]
  },
  {
   "cell_type": "code",
   "execution_count": null,
   "metadata": {},
   "outputs": [],
   "source": []
  }
 ],
 "metadata": {
  "kernelspec": {
   "display_name": "tesseract_env",
   "language": "python",
   "name": "python3"
  },
  "language_info": {
   "codemirror_mode": {
    "name": "ipython",
    "version": 3
   },
   "file_extension": ".py",
   "mimetype": "text/x-python",
   "name": "python",
   "nbconvert_exporter": "python",
   "pygments_lexer": "ipython3",
   "version": "3.9.7"
  },
  "orig_nbformat": 4
 },
 "nbformat": 4,
 "nbformat_minor": 2
}
