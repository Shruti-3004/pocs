{
 "cells": [
  {
   "cell_type": "code",
   "execution_count": 1,
   "metadata": {},
   "outputs": [],
   "source": [
    "import pandas as pd"
   ]
  },
  {
   "cell_type": "code",
   "execution_count": null,
   "metadata": {},
   "outputs": [],
   "source": [
    "data = pd.read_excel('C:\\sample_invoice_output\\matsya\\sepandoct_complete_final_invoices.xlsx')\n",
    "data['Start Date'] = pd.to_datetime(data['Start Date'])\n",
    "data['End Date'] = pd.to_datetime(data['End Date'])\n",
    "data['Invoice Date'] = pd.to_datetime(data['Invoice Date'])\n",
    "data"
   ]
  },
  {
   "cell_type": "code",
   "execution_count": 38,
   "metadata": {},
   "outputs": [],
   "source": [
    "self_merged_data = pd.merge(data, data, on=['Traveler Name', 'Source City', 'Source Country', 'Destination City', 'Destination Country', 'Supplier Name'])\n",
    "self_merged_data\n",
    "self_merged_data.to_excel('self_merged_data3.xlsx')"
   ]
  },
  {
   "cell_type": "code",
   "execution_count": null,
   "metadata": {},
   "outputs": [],
   "source": [
    "clean_self_merged = pd.DataFrame(columns=self_merged_data.columns)\n",
    "\n",
    "index1 = 0\n",
    "combs = []\n",
    "for index, row in self_merged_data.iterrows():\n",
    "   \n",
    "#    modified_df = modified_df.append(row, ignore_index=True)\n",
    "   filename_x = row['Filename_x']\n",
    "   filename_y = row['Filename_y']\n",
    "   \n",
    "   if filename_x == filename_y:\n",
    "      clean_self_merged = clean_self_merged.append(row)\n",
    "      # print(row)\n",
    "   else:\n",
    "      if (filename_x, filename_y) not in combs and (filename_y, filename_x) not in combs:\n",
    "         clean_self_merged = clean_self_merged.append(row)\n",
    "      combs.append((filename_x, filename_y))\n",
    "    \n",
    "      \n",
    "clean_self_merged\n",
    "# merged_data_dup.to_excel('merged_data_dup2.xlsx')"
   ]
  },
  {
   "cell_type": "code",
   "execution_count": 15,
   "metadata": {},
   "outputs": [
    {
     "data": {
      "text/html": [
       "<div>\n",
       "<style scoped>\n",
       "    .dataframe tbody tr th:only-of-type {\n",
       "        vertical-align: middle;\n",
       "    }\n",
       "\n",
       "    .dataframe tbody tr th {\n",
       "        vertical-align: top;\n",
       "    }\n",
       "\n",
       "    .dataframe thead th {\n",
       "        text-align: right;\n",
       "    }\n",
       "</style>\n",
       "<table border=\"1\" class=\"dataframe\">\n",
       "  <thead>\n",
       "    <tr style=\"text-align: right;\">\n",
       "      <th></th>\n",
       "      <th>Filename_x</th>\n",
       "      <th>Invoice Date_x</th>\n",
       "      <th>Traveler Name</th>\n",
       "      <th>Start Date_x</th>\n",
       "      <th>End Date_x</th>\n",
       "      <th>Source City</th>\n",
       "      <th>Source Country</th>\n",
       "      <th>Destination City</th>\n",
       "      <th>Destination Country</th>\n",
       "      <th>Supplier Name</th>\n",
       "      <th>Filename_y</th>\n",
       "      <th>Invoice Date_y</th>\n",
       "      <th>Start Date_y</th>\n",
       "      <th>End Date_y</th>\n",
       "    </tr>\n",
       "  </thead>\n",
       "  <tbody>\n",
       "    <tr>\n",
       "      <th>58</th>\n",
       "      <td>DS_752</td>\n",
       "      <td>05-10-2023</td>\n",
       "      <td>MR SOURABH THAKAR</td>\n",
       "      <td>2023-10-19</td>\n",
       "      <td>2023-10-19</td>\n",
       "      <td>Bangalore</td>\n",
       "      <td>IN</td>\n",
       "      <td>New Delhi</td>\n",
       "      <td>IN</td>\n",
       "      <td>MATSYA TRAVEL SERVICES PVT. LTD.</td>\n",
       "      <td>DS_752</td>\n",
       "      <td>05-10-2023</td>\n",
       "      <td>2023-10-19</td>\n",
       "      <td>2023-10-19</td>\n",
       "    </tr>\n",
       "  </tbody>\n",
       "</table>\n",
       "</div>"
      ],
      "text/plain": [
       "   Filename_x Invoice Date_x      Traveler Name Start Date_x  End Date_x  \\\n",
       "58     DS_752     05-10-2023  MR SOURABH THAKAR   2023-10-19  2023-10-19   \n",
       "\n",
       "   Source City Source Country Destination City Destination Country  \\\n",
       "58   Bangalore             IN        New Delhi                  IN   \n",
       "\n",
       "                       Supplier Name Filename_y Invoice Date_y Start Date_y  \\\n",
       "58  MATSYA TRAVEL SERVICES PVT. LTD.     DS_752     05-10-2023   2023-10-19   \n",
       "\n",
       "    End Date_y  \n",
       "58  2023-10-19  "
      ]
     },
     "execution_count": 15,
     "metadata": {},
     "output_type": "execute_result"
    }
   ],
   "source": [
    "clean_self_merged[clean_self_merged['Filename_x'] == 'DS_752']"
   ]
  },
  {
   "cell_type": "code",
   "execution_count": null,
   "metadata": {},
   "outputs": [],
   "source": [
    "clean_self_merged\n",
    "# clean_self_merged.to_excel('clean_self_merged.xlsx')"
   ]
  },
  {
   "cell_type": "code",
   "execution_count": 46,
   "metadata": {},
   "outputs": [
    {
     "data": {
      "text/plain": [
       "Filename_x  Traveler Name           Source City  Destination City\n",
       "DS_11       MR SOURABH THAKAR       Bangalore    New Delhi          2023-05-10\n",
       "                                    New Delhi    Bangalore          2023-10-01\n",
       "DS_110      MS KIRTANA VIRK         Mumbai       New Delhi          2023-04-24\n",
       "                                    New Delhi    Mumbai             2023-04-24\n",
       "DS_115      MR SANJIT BHATTACHARYA  New Delhi    Pune               2023-04-25\n",
       "                                                                       ...    \n",
       "is_762      MR RITHIK               Ad Dammam    Colombo            2023-06-30\n",
       "                                    Colombo      Ad Dammam          2023-06-30\n",
       "                                                 Trivandrum         2023-06-30\n",
       "                                    Trivandrum   Colombo            2023-06-30\n",
       "is_763      MR ANURAG AGAR          Dubai        New Delhi          2023-06-30\n",
       "Name: Invoice Date_y, Length: 1625, dtype: datetime64[ns]"
      ]
     },
     "execution_count": 46,
     "metadata": {},
     "output_type": "execute_result"
    }
   ],
   "source": [
    "grouped = clean_self_merged.groupby(['Filename_x', 'Traveler Name', 'Source City', 'Destination City'])['Invoice Date_y'].max()\n",
    "# grouped.to_excel('grouped.xlsx')\n",
    "grouped"
   ]
  },
  {
   "cell_type": "code",
   "execution_count": null,
   "metadata": {},
   "outputs": [],
   "source": [
    "new_df = pd.DataFrame(columns=clean_self_merged.columns)\n",
    "for i, j in list(zip(grouped.index, grouped.values)):\n",
    "    res = clean_self_merged[(clean_self_merged['Filename_x'] == i[0]) & (clean_self_merged['Traveler Name'] == i[1]) & (clean_self_merged['Source City'] == i[2]) & (clean_self_merged['Destination City'] == i[3]) & (clean_self_merged['Invoice Date_y'] == j)]\n",
    "    new_df = new_df.append(res)\n",
    "    # print(res)\n",
    "new_df"
   ]
  },
  {
   "cell_type": "code",
   "execution_count": 52,
   "metadata": {},
   "outputs": [],
   "source": [
    "new_df.to_excel('final_new_df.xlsx')"
   ]
  },
  {
   "cell_type": "code",
   "execution_count": null,
   "metadata": {},
   "outputs": [],
   "source": []
  }
 ],
 "metadata": {
  "kernelspec": {
   "display_name": "tesseract_env",
   "language": "python",
   "name": "python3"
  },
  "language_info": {
   "codemirror_mode": {
    "name": "ipython",
    "version": 3
   },
   "file_extension": ".py",
   "mimetype": "text/x-python",
   "name": "python",
   "nbconvert_exporter": "python",
   "pygments_lexer": "ipython3",
   "version": "3.9.7"
  },
  "orig_nbformat": 4
 },
 "nbformat": 4,
 "nbformat_minor": 2
}
