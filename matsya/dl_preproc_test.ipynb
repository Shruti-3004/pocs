{
 "cells": [
  {
   "cell_type": "code",
   "execution_count": 5,
   "metadata": {},
   "outputs": [],
   "source": [
    "import imutils\n",
    "from skimage.filters import threshold_local\n",
    "import cv2\n",
    "import base64\n",
    "import os\n",
    "import numpy as np\n",
    "import random as rng\n",
    "# from stackchain.widgets import rect2Box, shoWait, validDatedString\n",
    "import pytesseract\n",
    "from skimage import measure\n",
    "import re\n",
    "import datetime\n",
    "import json"
   ]
  },
  {
   "cell_type": "code",
   "execution_count": 26,
   "metadata": {},
   "outputs": [
    {
     "name": "stdout",
     "output_type": "stream",
     "text": [
      "\n",
      " IMAGE -->  C:\\matsya\\india_dl\\lokesh_dl_original.jpg\n",
      "preproc image--->  C:\\matsya\\india_dl_preproc\\lokesh_dl_original_binary_threshold-set_dpi.jpg\n",
      "dpi--->  (300, 300)\n"
     ]
    }
   ],
   "source": [
    "\n",
    "from PIL import Image, ImageEnhance, PngImagePlugin\n",
    "import cv2\n",
    "import numpy as np\n",
    "from skimage import io\n",
    "from skimage.transform import rotate\n",
    "from skimage.color import rgb2gray\n",
    "# from deskew import determine_skew\n",
    "from matplotlib import pyplot as plt\n",
    "from pdf2image import convert_from_path\n",
    "import shutil\n",
    "import glob\n",
    "import os\n",
    "\n",
    "def set_dpi(image, preproc_image):\n",
    "    # im = Image.open(image)\n",
    "    # im.save(preproc_image, dpi=(300,300))\n",
    "    # return preproc_image\n",
    "    dpi=(300,300)\n",
    "    image = Image.open(image)\n",
    "    \n",
    "    # Create a new info dictionary to ensure dpi is set correctly\n",
    "    info = PngImagePlugin.PngInfo()\n",
    "    info.add_text(\"dpi\", f\"{dpi[0]} {dpi[1]}\")\n",
    "    \n",
    "    # Save the image with the new DPI\n",
    "    image.save(preproc_image, dpi=dpi, pnginfo=info)\n",
    "    return preproc_image\n",
    "\n",
    "def increase_contrast(image, preproc_image):\n",
    "    im = Image.open(image)\n",
    "    enhancer = ImageEnhance.Contrast(im)\n",
    "    factor = 2 #increase contrast\n",
    "    im_output = enhancer.enhance(factor)\n",
    "    im_output.save(preproc_image)\n",
    "    return preproc_image\n",
    "\n",
    "def increase_sharpness(image, preproc_image):\n",
    "    im = Image.open(image)\n",
    "    enhancer = ImageEnhance.Sharpness(im)\n",
    "    factor = 2\n",
    "    im_output = enhancer.enhance(factor)\n",
    "    im_output.save(preproc_image)\n",
    "    return preproc_image\n",
    "\n",
    "def convert_to_grayscale(image, preproc_image):\n",
    "    im = cv2.imread(image)\n",
    "    im = cv2.cvtColor(im, cv2.COLOR_BGR2GRAY)\n",
    "    cv2.imwrite(preproc_image, im)\n",
    "    return preproc_image\n",
    "\n",
    "def convert_to_rgb(image, preproc_image):\n",
    "    im = cv2.imread(image)\n",
    "    im = cv2.cvtColor(im, cv2.COLOR_BGR2RGB)\n",
    "    cv2.imwrite(preproc_image, im)\n",
    "    return preproc_image\n",
    "\n",
    "def otsu_threshold(image, preproc_image):\n",
    "    im = cv2.imread(image)\n",
    "    im = cv2.cvtColor(im, cv2.COLOR_BGR2GRAY)\n",
    "    # im = cv2.threshold(im, 120, 255, cv2.THRESH_BINARY, cv2.THRESH_OTSU)[1]\n",
    "    im = cv2.adaptiveThreshold(im,255,cv2.ADAPTIVE_THRESH_GAUSSIAN_C,cv2.THRESH_BINARY,11,2)\n",
    "    cv2.imwrite(preproc_image, im)\n",
    "    return preproc_image\n",
    "\n",
    "def binary_threshold(image, preproc_image):\n",
    "    im = cv2.imread(image)\n",
    "    im = cv2.cvtColor(im, cv2.COLOR_BGR2GRAY)\n",
    "    ret, thresh1 = cv2.threshold(im, 120, 255, cv2.THRESH_BINARY)\n",
    "    cv2.imwrite(preproc_image, thresh1)\n",
    "    return preproc_image\n",
    "\n",
    "def remove_noise(image, preproc_image):\n",
    "    im = cv2.imread(image)\n",
    "    # im = cv2.fastNlMeansDenoising(im, None, 20, 7, 21)\n",
    "    im = cv2.fastNlMeansDenoisingColored(im, None, 10, 10, 7, 15)\n",
    "    cv2.imwrite(preproc_image, im)\n",
    "    return preproc_image\n",
    "\n",
    "def normalize_image(image, preproc_image):\n",
    "    image = cv2.imread(image)\n",
    "    norm_img = np.zeros((image.shape[0], image.shape[1]))\n",
    "    img = cv2.normalize(image, norm_img, 0, 255, cv2.NORM_MINMAX)\n",
    "    cv2.imwrite(preproc_image, img)\n",
    "    return preproc_image\n",
    "\n",
    "def image_scaling(image, preproc_image):\n",
    "\n",
    "    im = Image.open(image)\n",
    "    length_x, width_y = im.size\n",
    "    factor = min(1, float(1024.0 / length_x))\n",
    "    size = int(factor * length_x), int(factor * width_y)\n",
    "    im_resized = im.resize(size, Image.Resampling.LANCZOS)\n",
    "    # preproc_image = im_resized.NamedTemporaryFile(delete=False, suffix='.png')\n",
    "    # preproc_image = preproc_image.name\n",
    "    im_resized.save(preproc_image)\n",
    "    return preproc_image\n",
    "\n",
    "def preprocess_files():\n",
    "    # print('hello')\n",
    "    # combinations = ['convert_to_grayscale-set_dpi', 'increase_contrast-increase_sharpness-set_dpi', 'increase_contrast-convert_to_grayscale-set_dpi', 'convert_to_grayscale-remove_noise-set_dpi', 'increase_contrast-convert_to_grayscale-remove_noise-set_dpi',\n",
    "                #    'convert_to_rgb-set_dpi']\n",
    "    combinations = ['binary_threshold-set_dpi']\n",
    "    # combinations = ['normalize_image-image_scaling-remove_noise-convert_to_grayscale']\n",
    "    # combinations = ['set_dpi', 'normalize_image-remove_noise-convert_to_grayscale-set_dpi', 'convert_to_grayscale-set_dpi', 'increase_contrast-increase_sharpness-set_dpi', 'increase_contrast-convert_to_grayscale-set_dpi']\n",
    "    psms = [3,4,6,11,12]\n",
    "    for image in glob.glob('C:\\\\matsya\\\\india_dl\\\\lokesh_dl_original*'):\n",
    "        # print('helloo')\n",
    "        print(\"\\n IMAGE --> \", image)\n",
    "        # filename = os.path.split(image)[-1].split('.jpg')[0]\n",
    "        # preproc_image = 'preprocess_images\\\\'+filename+'.jpg'\n",
    "        # shutil.copy(image, preproc_image)\n",
    "        for combination in combinations:\n",
    "            if 'jpg' in image.lower():\n",
    "                filename = os.path.split(image)[-1].split('.jpg')[0]\n",
    "            elif 'png' in image.lower():\n",
    "                filename = os.path.split(image)[-1].split('.png')[0]\n",
    "            ext = image.split('.')[-1]\n",
    "            preproc_image = 'C:\\\\matsya\\\\india_dl_preproc\\\\'+filename+'_'+combination+'.'+ext\n",
    "            shutil.copy(image, preproc_image)\n",
    "            methods = combination.split('-')\n",
    "            for method in methods:\n",
    "                if 'deskew' in method:\n",
    "                    preproc_image = eval(method+'(preproc_image)')\n",
    "                else:\n",
    "                    preproc_image = eval(method+'(preproc_image, preproc_image)')\n",
    "\n",
    "            print('preproc image---> ', preproc_image)\n",
    "            im = Image.open(preproc_image)\n",
    "            dpi = im.info.get('dpi', (72, 72))\n",
    "            print('dpi---> ', dpi)\n",
    "            # print(combination)\n",
    "            # image_name = 'C:\\\\matsya\\\\india_dl_preproc\\\\' + filename+'_'+combination+'.'+ext\n",
    "            # print(image_name)\n",
    "            # img = cv2.imread(preproc_image)\n",
    "            # cv2.imwrite(image_name, img)\n",
    "            # im2 = Image.open(image_name)\n",
    "            # new_dpi = im2.info.get('dpi', (72, 72))\n",
    "            # print('new_dpi---> ', new_dpi)\n",
    "\n",
    "            for psm in psms:\n",
    "                parsed_output = 'C:\\\\matsya\\\\india_dl_preproc\\\\'+filename+'_'+str(psm)+'_'+combination\n",
    "                command = 'tesseract {} {} -l eng+hin --psm {}'.format(preproc_image, parsed_output, psm)\n",
    "                os.system(command)\n",
    "\n",
    "# get_pdf_image()\n",
    "preprocess_files()\n"
   ]
  },
  {
   "cell_type": "code",
   "execution_count": 15,
   "metadata": {},
   "outputs": [
    {
     "name": "stdout",
     "output_type": "stream",
     "text": [
      "HR3578594\n",
      "DLNUMBER HR2620170006785 Inv Carr No.\n",
      "LOKESH YADAV\n",
      "BHUPINDRA SINGH\n",
      "40-Sep-1998 Validity (NT) 14-Apr-2037\n",
      "Be\n",
      "‘282 Tate Gurgaon HR 122001\n",
      "\n",
      "uw See\n",
      "news Shear\n",
      "\n",
      "oa el\n",
      "ped\n",
      "\n",
      "lbouing Authorty $00 BADSHAYPUR\n",
      "\n",
      "a C)\n",
      "\n",
      "Ise Date zap a007\n",
      "RE Sarto\n",
      "pevek 2a\n"
     ]
    }
   ],
   "source": [
    "\n",
    "from PIL import Image \n",
    "from pytesseract import pytesseract \n",
    "  \n",
    "# Defining paths to tesseract.exe \n",
    "# and the image we would be using \n",
    "path_to_tesseract = r\"C:\\\\Program Files\\\\Tesseract-OCR\\\\tesseract.exe\"\n",
    "image_path = 'C:\\\\matsya\\\\india_dl_preproc\\\\lokesh_dl_scanned_set_dpi.png'\n",
    "  \n",
    "# Opening the image & storing it in an image object \n",
    "img = Image.open(image_path) \n",
    "  \n",
    "# Providing the tesseract executable \n",
    "# location to pytesseract library \n",
    "pytesseract.tesseract_cmd = path_to_tesseract \n",
    "  \n",
    "# Passing the image object to image_to_string() function \n",
    "# This function will extract the text from the image \n",
    "text = pytesseract.image_to_string(img) \n",
    "  \n",
    "# Displaying the extracted text \n",
    "print(text[:-1])"
   ]
  },
  {
   "cell_type": "code",
   "execution_count": 9,
   "metadata": {},
   "outputs": [
    {
     "name": "stdout",
     "output_type": "stream",
     "text": [
      "Current DPI: (299.9994, 299.9994)\n"
     ]
    }
   ],
   "source": [
    "# image = 'C:\\\\matsya\\\\india_dl\\\\shruti_dl_scanned.png'\n",
    "# im = Image.open(image)\n",
    "# im.save('sample.png', dpi=(300,300))\n",
    "# im.info.get('dpi')\n",
    "\n",
    "from PIL import Image, PngImagePlugin\n",
    "\n",
    "def get_dpi(image_path):\n",
    "    image = Image.open(image_path)\n",
    "    dpi = image.info.get('dpi', (72, 72))  # Default to (72, 72) if dpi info is not present\n",
    "    return dpi\n",
    "\n",
    "def change_dpi(image_path, output_path, dpi=(300, 300)):\n",
    "    # Open the image\n",
    "    image = Image.open(image_path)\n",
    "    \n",
    "    # Create a new info dictionary to ensure dpi is set correctly\n",
    "    info = PngImagePlugin.PngInfo()\n",
    "    info.add_text(\"dpi\", f\"{dpi[0]} {dpi[1]}\")\n",
    "    \n",
    "    # Save the image with the new DPI\n",
    "    image.save(output_path, dpi=dpi, pnginfo=info)\n",
    "    \n",
    "    print(f\"Image saved at {output_path} with DPI {dpi}\")\n",
    "\n",
    "# Example usage\n",
    "image_path = 'C:\\\\matsya\\\\india_dl_preproc\\\\deependra_dl_scanned_normalize_image-remove_noise-convert_to_grayscale-set_dpi.png'\n",
    "output_path = 'sample.jpg'\n",
    "\n",
    "# Print current DPI\n",
    "current_dpi = get_dpi(image_path)\n",
    "print(f\"Current DPI: {current_dpi}\")\n",
    "\n",
    "# # Change DPI\n",
    "# change_dpi(image_path, output_path, dpi=(300, 300))\n",
    "\n",
    "# # Verify the new DPI\n",
    "# new_dpi = get_dpi(output_path)\n",
    "# print(f\"New DPI: {new_dpi}\")\n"
   ]
  },
  {
   "cell_type": "code",
   "execution_count": 21,
   "metadata": {},
   "outputs": [
    {
     "name": "stdout",
     "output_type": "stream",
     "text": [
      "a\n",
      "oe ae\n",
      "\n",
      "union oF nvia Driving Licence ®) ®\n",
      "\n",
      "ware ae at Fee\n",
      "\n",
      "tere eae. mag eM Ne. othe eg a\n",
      "\n",
      "ni\n",
      "\n"
     ]
    }
   ],
   "source": [
    "command = 'tesseract C:\\matsya\\india_dl\\shruti_dl_original.jpg stdout --psm 4 -l eng'\n",
    "print(os.popen(command).read())"
   ]
  },
  {
   "cell_type": "code",
   "execution_count": 11,
   "metadata": {},
   "outputs": [],
   "source": [
    "W = 800\n",
    "fontFace = cv2.FONT_HERSHEY_PLAIN\n",
    "cleanText = r\"[^A-Z0-9.,\\-\\s/]\"\n",
    "\n",
    "image = cv2.imread('C:\\\\matsya\\\\us_dl\\\\dl_6.jpg')\n",
    "\n",
    "resize_proc = imutils.resize(image, width=W)\n",
    "resize_orig = imutils.resize(image, width=W)"
   ]
  },
  {
   "cell_type": "code",
   "execution_count": 12,
   "metadata": {},
   "outputs": [],
   "source": [
    "def cleanImage(image, stage=0):\n",
    "    V = cv2.cvtColor(image, cv2.COLOR_BGR2GRAY)\n",
    "    kernel = cv2.getStructuringElement(cv2.MORPH_RECT, (3, 3))\n",
    "    topHat = cv2.morphologyEx(V, cv2.MORPH_TOPHAT, kernel)\n",
    "    blackHat = cv2.morphologyEx(V, cv2.MORPH_BLACKHAT, kernel)\n",
    "    add = cv2.add(V, topHat)\n",
    "    subtract = cv2.subtract(add, blackHat)\n",
    "    if stage == 1:\n",
    "        return subtract\n",
    "    T = threshold_local(subtract, 29, offset=35, method=\"gaussian\", mode=\"mirror\")\n",
    "    thresh = (subtract > T).astype(\"uint8\")*255\n",
    "    if stage == 2:\n",
    "        return thresh\n",
    "    thresh = cv2.bitwise_not(thresh)\n",
    "    return thresh"
   ]
  },
  {
   "cell_type": "code",
   "execution_count": 13,
   "metadata": {},
   "outputs": [],
   "source": [
    "def extractROIs(image, origin, minArea=1800, minHeight=25, minWidth=22):\n",
    "    cnts = cv2.findContours(image, cv2.RETR_EXTERNAL, cv2.CHAIN_APPROX_SIMPLE)\n",
    "    cnts = imutils.grab_contours(cnts)\n",
    "    roisAsRects = []\n",
    "    for c in cnts:\n",
    "        rect = cv2.minAreaRect(c)\n",
    "        (_, _), (rh, rw), _ = rect\n",
    "        if rh>0:\n",
    "            ratio = float(rw)/rh\n",
    "            area = rw*rh\n",
    "            if area>minArea and rh>minHeight and rw>minWidth and (ratio>1 or ratio<0.5):\n",
    "                roisAsRects.append(rect)\n",
    "    return roisAsRects"
   ]
  },
  {
   "cell_type": "code",
   "execution_count": null,
   "metadata": {},
   "outputs": [],
   "source": [
    "def rect2box(x, y, w, h):\n",
    "    x1 = r[0]\n",
    "    y1 = r[1]\n",
    "    x2 = r[0] + w\n",
    "    y2 = r[1] + h\n",
    "    return x1, y1, x2, y2\n",
    "\n",
    "def cropRois(image, rects, multHeight=0.73, multWidth=0.97, topHeightCrop=30):\n",
    "    crops = []\n",
    "    data = {}\n",
    "    angles = []\n",
    "    for r in rects:\n",
    "        box = rect2Box(r)\n",
    "        "
   ]
  },
  {
   "cell_type": "code",
   "execution_count": 1,
   "metadata": {},
   "outputs": [
    {
     "ename": "AttributeError",
     "evalue": "module 'image_to_scan' has no attribute 'load_image'",
     "output_type": "error",
     "traceback": [
      "\u001b[1;31m---------------------------------------------------------------------------\u001b[0m",
      "\u001b[1;31mAttributeError\u001b[0m                            Traceback (most recent call last)",
      "\u001b[1;32m~\\AppData\\Local\\Temp/ipykernel_19572/2545613133.py\u001b[0m in \u001b[0;36m<module>\u001b[1;34m\u001b[0m\n\u001b[0;32m     12\u001b[0m \u001b[1;33m\u001b[0m\u001b[0m\n\u001b[0;32m     13\u001b[0m \u001b[1;31m# Example usage\u001b[0m\u001b[1;33m\u001b[0m\u001b[1;33m\u001b[0m\u001b[0m\n\u001b[1;32m---> 14\u001b[1;33m \u001b[0mscan_image\u001b[0m\u001b[1;33m(\u001b[0m\u001b[1;34m'C:\\matsya\\dl_preprocess\\dl_shruti.jpg'\u001b[0m\u001b[1;33m)\u001b[0m\u001b[1;33m\u001b[0m\u001b[1;33m\u001b[0m\u001b[0m\n\u001b[0m",
      "\u001b[1;32m~\\AppData\\Local\\Temp/ipykernel_19572/2545613133.py\u001b[0m in \u001b[0;36mscan_image\u001b[1;34m(image_path)\u001b[0m\n\u001b[0;32m      3\u001b[0m \u001b[1;32mdef\u001b[0m \u001b[0mscan_image\u001b[0m\u001b[1;33m(\u001b[0m\u001b[0mimage_path\u001b[0m\u001b[1;33m)\u001b[0m\u001b[1;33m:\u001b[0m\u001b[1;33m\u001b[0m\u001b[1;33m\u001b[0m\u001b[0m\n\u001b[0;32m      4\u001b[0m     \u001b[1;31m# Load the image\u001b[0m\u001b[1;33m\u001b[0m\u001b[1;33m\u001b[0m\u001b[0m\n\u001b[1;32m----> 5\u001b[1;33m     \u001b[0mimage\u001b[0m \u001b[1;33m=\u001b[0m \u001b[0mimage_to_scan\u001b[0m\u001b[1;33m.\u001b[0m\u001b[0mload_image\u001b[0m\u001b[1;33m(\u001b[0m\u001b[0mimage_path\u001b[0m\u001b[1;33m)\u001b[0m\u001b[1;33m\u001b[0m\u001b[1;33m\u001b[0m\u001b[0m\n\u001b[0m\u001b[0;32m      6\u001b[0m \u001b[1;33m\u001b[0m\u001b[0m\n\u001b[0;32m      7\u001b[0m     \u001b[1;31m# Perform scanning operation (assuming a method exists)\u001b[0m\u001b[1;33m\u001b[0m\u001b[1;33m\u001b[0m\u001b[0m\n",
      "\u001b[1;31mAttributeError\u001b[0m: module 'image_to_scan' has no attribute 'load_image'"
     ]
    }
   ],
   "source": [
    "import image_to_scan\n",
    "\n",
    "def scan_image(image_path):\n",
    "    # Load the image\n",
    "    image = image_to_scan.load_image(image_path)\n",
    "    \n",
    "    # Perform scanning operation (assuming a method exists)\n",
    "    scanned_data = image_to_scan.scan(image)\n",
    "    \n",
    "    # Process and print the scanned data\n",
    "    print(scanned_data)\n",
    "\n",
    "# Example usage\n",
    "scan_image('C:\\matsya\\dl_preprocess\\dl_shruti.jpg')\n"
   ]
  },
  {
   "cell_type": "code",
   "execution_count": 13,
   "metadata": {},
   "outputs": [
    {
     "name": "stdout",
     "output_type": "stream",
     "text": [
      "be wvonorwoiaDriving Licence @) @\n",
      "\n",
      "\n"
     ]
    }
   ],
   "source": [
    "import os\n",
    "\n",
    "command = 'tesseract C:\\matsya\\india_dl\\shruti_dl_scanned.png stdout --psm 4 -l eng'\n",
    "print(os.popen(command).read())"
   ]
  },
  {
   "cell_type": "code",
   "execution_count": 4,
   "metadata": {},
   "outputs": [],
   "source": [
    "# Python program to illustrate \n",
    "# simple thresholding type on an image \n",
    "\t\n",
    "# organizing imports \n",
    "import cv2 \n",
    "import numpy as np \n",
    "\n",
    "# path to input image is specified and \n",
    "# image is loaded with imread command \n",
    "img = cv2.imread('C:\\\\matsya\\\\india_dl\\\\shruti_dl_original.jpg') \n",
    "\n",
    "# cv2.cvtColor is applied over the \n",
    "# image input with applied parameters \n",
    "# to convert the image in grayscale \n",
    "img = cv2.cvtColor(img, cv2.COLOR_BGR2GRAY) \n",
    "\n",
    "# applying different thresholding \n",
    "# techniques on the input image \n",
    "# all pixels value above 120 will \n",
    "# be set to 255 \n",
    "ret, thresh1 = cv2.threshold(img, 120, 255, cv2.THRESH_BINARY) \n",
    "ret, thresh2 = cv2.threshold(img, 120, 255, cv2.THRESH_BINARY_INV) \n",
    "ret, thresh3 = cv2.threshold(img, 120, 255, cv2.THRESH_TRUNC) \n",
    "ret, thresh4 = cv2.threshold(img, 120, 255, cv2.THRESH_TOZERO) \n",
    "ret, thresh5 = cv2.threshold(img, 120, 255, cv2.THRESH_TOZERO_INV) \n",
    "\n",
    "# # the window showing output images \n",
    "# # with the corresponding thresholding \n",
    "# # techniques applied to the input images \n",
    "cv2.imshow('Binary Threshold', thresh1) \n",
    "# cv2.imshow('Binary Threshold Inverted', thresh2) \n",
    "# cv2.imshow('Truncated Threshold', thresh3) \n",
    "# cv2.imshow('Set to 0', thresh4) \n",
    "# cv2.imshow('Set to 0 Inverted', thresh5) \n",
    "\t\n",
    "# # De-allocate any associated memory usage \n",
    "if cv2.waitKey(0) & 0xff == 27: \n",
    "\tcv2.destroyAllWindows() \n"
   ]
  },
  {
   "cell_type": "code",
   "execution_count": 34,
   "metadata": {},
   "outputs": [
    {
     "name": "stdout",
     "output_type": "stream",
     "text": [
      "^C\n"
     ]
    }
   ],
   "source": [
    "!pip uninstall opencv-python"
   ]
  },
  {
   "cell_type": "code",
   "execution_count": 2,
   "metadata": {},
   "outputs": [
    {
     "data": {
      "text/plain": [
       "-1"
      ]
     },
     "execution_count": 2,
     "metadata": {},
     "output_type": "execute_result"
    }
   ],
   "source": [
    "import cv2\n",
    "img = cv2.imread('C:\\\\matsya\\\\india_dl\\\\shruti_dl_original.jpg')\n",
    "cv2.imshow('img', img)\n",
    "cv2.waitKey(0)"
   ]
  },
  {
   "cell_type": "code",
   "execution_count": 19,
   "metadata": {},
   "outputs": [
    {
     "ename": "UnboundLocalError",
     "evalue": "local variable 'temp_file' referenced before assignment",
     "output_type": "error",
     "traceback": [
      "\u001b[1;31m---------------------------------------------------------------------------\u001b[0m",
      "\u001b[1;31mUnboundLocalError\u001b[0m                         Traceback (most recent call last)",
      "\u001b[1;32m~\\AppData\\Local\\Temp/ipykernel_10880/1848468752.py\u001b[0m in \u001b[0;36m<module>\u001b[1;34m\u001b[0m\n\u001b[1;32m----> 1\u001b[1;33m \u001b[0mfinal_image\u001b[0m \u001b[1;33m=\u001b[0m \u001b[0mset_image_dpi\u001b[0m\u001b[1;33m(\u001b[0m\u001b[1;34m'C:\\\\matsya\\\\india_dl\\\\shruti_dl_original.jpg'\u001b[0m\u001b[1;33m)\u001b[0m\u001b[1;33m\u001b[0m\u001b[1;33m\u001b[0m\u001b[0m\n\u001b[0m",
      "\u001b[1;32m~\\AppData\\Local\\Temp/ipykernel_10880/4593294.py\u001b[0m in \u001b[0;36mset_image_dpi\u001b[1;34m(file_path)\u001b[0m\n\u001b[0;32m      5\u001b[0m     \u001b[0msize\u001b[0m \u001b[1;33m=\u001b[0m \u001b[0mint\u001b[0m\u001b[1;33m(\u001b[0m\u001b[0mfactor\u001b[0m \u001b[1;33m*\u001b[0m \u001b[0mlength_x\u001b[0m\u001b[1;33m)\u001b[0m\u001b[1;33m,\u001b[0m \u001b[0mint\u001b[0m\u001b[1;33m(\u001b[0m\u001b[0mfactor\u001b[0m \u001b[1;33m*\u001b[0m \u001b[0mwidth_y\u001b[0m\u001b[1;33m)\u001b[0m\u001b[1;33m\u001b[0m\u001b[1;33m\u001b[0m\u001b[0m\n\u001b[0;32m      6\u001b[0m     \u001b[0mim_resized\u001b[0m \u001b[1;33m=\u001b[0m \u001b[0mim\u001b[0m\u001b[1;33m.\u001b[0m\u001b[0mresize\u001b[0m\u001b[1;33m(\u001b[0m\u001b[0msize\u001b[0m\u001b[1;33m,\u001b[0m \u001b[0mImage\u001b[0m\u001b[1;33m.\u001b[0m\u001b[0mResampling\u001b[0m\u001b[1;33m.\u001b[0m\u001b[0mLANCZOS\u001b[0m\u001b[1;33m)\u001b[0m\u001b[1;33m\u001b[0m\u001b[1;33m\u001b[0m\u001b[0m\n\u001b[1;32m----> 7\u001b[1;33m     \u001b[0mtemp_file\u001b[0m \u001b[1;33m=\u001b[0m \u001b[0mtemp_file\u001b[0m\u001b[1;33m.\u001b[0m\u001b[0mNamedTemporaryFile\u001b[0m\u001b[1;33m(\u001b[0m\u001b[0mdelete\u001b[0m\u001b[1;33m=\u001b[0m\u001b[1;32mFalse\u001b[0m\u001b[1;33m,\u001b[0m \u001b[0msuffix\u001b[0m\u001b[1;33m=\u001b[0m\u001b[1;34m'.png'\u001b[0m\u001b[1;33m)\u001b[0m\u001b[1;33m\u001b[0m\u001b[1;33m\u001b[0m\u001b[0m\n\u001b[0m\u001b[0;32m      8\u001b[0m     \u001b[0mtemp_filename\u001b[0m \u001b[1;33m=\u001b[0m \u001b[0mtemp_file\u001b[0m\u001b[1;33m.\u001b[0m\u001b[0mname\u001b[0m\u001b[1;33m\u001b[0m\u001b[1;33m\u001b[0m\u001b[0m\n\u001b[0;32m      9\u001b[0m     \u001b[0mim_resized\u001b[0m\u001b[1;33m.\u001b[0m\u001b[0msave\u001b[0m\u001b[1;33m(\u001b[0m\u001b[0mtemp_filename\u001b[0m\u001b[1;33m,\u001b[0m \u001b[0mdpi\u001b[0m\u001b[1;33m=\u001b[0m\u001b[1;33m(\u001b[0m\u001b[1;36m300\u001b[0m\u001b[1;33m,\u001b[0m \u001b[1;36m300\u001b[0m\u001b[1;33m)\u001b[0m\u001b[1;33m)\u001b[0m\u001b[1;33m\u001b[0m\u001b[1;33m\u001b[0m\u001b[0m\n",
      "\u001b[1;31mUnboundLocalError\u001b[0m: local variable 'temp_file' referenced before assignment"
     ]
    }
   ],
   "source": [
    "final_image = set_image_dpi('C:\\\\matsya\\\\india_dl\\\\shruti_dl_original.jpg')"
   ]
  },
  {
   "cell_type": "code",
   "execution_count": null,
   "metadata": {},
   "outputs": [],
   "source": []
  }
 ],
 "metadata": {
  "kernelspec": {
   "display_name": "tesseract_env",
   "language": "python",
   "name": "python3"
  },
  "language_info": {
   "codemirror_mode": {
    "name": "ipython",
    "version": 3
   },
   "file_extension": ".py",
   "mimetype": "text/x-python",
   "name": "python",
   "nbconvert_exporter": "python",
   "pygments_lexer": "ipython3",
   "version": "3.9.7"
  },
  "orig_nbformat": 4
 },
 "nbformat": 4,
 "nbformat_minor": 2
}
