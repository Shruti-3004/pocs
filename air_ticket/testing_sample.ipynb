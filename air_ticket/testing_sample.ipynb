{
 "cells": [
  {
   "cell_type": "code",
   "execution_count": 6,
   "metadata": {},
   "outputs": [],
   "source": [
    "import os\n",
    "import pdfplumber\n",
    "\n",
    "directory = 'Supplier Emission Management/2022'\n",
    "\n",
    "for filename in os.listdir(directory)[4:5]:\n",
    "    if filename.endswith('.pdf'):\n",
    "        fullpath = os.path.join(directory, filename)\n",
    "        #print(fullpath)\n",
    "        all_text = \"\"\n",
    "        with pdfplumber.open(fullpath) as pdf:\n",
    "            for page in pdf.pages:\n",
    "                text = page.extract_text()\n",
    "                #print(text)\n",
    "                all_text += '\\n' + text\n",
    "        print(all_text)"
   ]
  },
  {
   "cell_type": "code",
   "execution_count": null,
   "metadata": {},
   "outputs": [],
   "source": []
  }
 ],
 "metadata": {
  "kernelspec": {
   "display_name": "Python 3.9.7 ('tesseract_env')",
   "language": "python",
   "name": "python3"
  },
  "language_info": {
   "codemirror_mode": {
    "name": "ipython",
    "version": 3
   },
   "file_extension": ".py",
   "mimetype": "text/x-python",
   "name": "python",
   "nbconvert_exporter": "python",
   "pygments_lexer": "ipython3",
   "version": "3.9.7"
  },
  "orig_nbformat": 4,
  "vscode": {
   "interpreter": {
    "hash": "f2bf98aca738b82bbb428fe464a6263ad4cb110bee1d1ba46156599d47bb3295"
   }
  }
 },
 "nbformat": 4,
 "nbformat_minor": 2
}
