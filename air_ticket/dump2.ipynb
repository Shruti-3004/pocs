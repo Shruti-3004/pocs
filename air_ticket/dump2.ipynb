{
 "cells": [
  {
   "cell_type": "code",
   "execution_count": null,
   "metadata": {},
   "outputs": [],
   "source": [
    "df = pd.read_excel(\"World Cities DB.xlsx\")\n",
    "source_city = []\n",
    "source_country = []\n",
    "dest_city = []\n",
    "dest_country = []\n",
    "print(df.columns)\n",
    "for i in data['Source City']:\n",
    "    df_upd = df[df['IATA Code'] == i].iloc[0]\n",
    "    if i and str(i) != \"nan\":\n",
    "        print(type(i))\n",
    "        source_city.append(df_upd['City'])\n",
    "        source_country.append(df_upd['Country Name'])\n",
    "    elif str(i) == \"nan\":\n",
    "        source_country.append(\"nan\")\n",
    "for i in data['Destination City']:\n",
    "    df_upd = df[df['IATA Code'] == i].iloc[0]\n",
    "    if i and str(i) != \"nan\":\n",
    "        print(type(i))\n",
    "        dest_city.append(df_upd['City'])\n",
    "        dest_country.append(df_upd['Country Name'])\n",
    "    elif str(i) == \"nan\":\n",
    "        dest_country.append(\"nan\")   \n",
    "print(\"\\n SOURCE --> \", source_country)\n",
    "print(\"\\n DESTINATION --> \", dest_country)  \n",
    "data['Source Country'] = source_country\n",
    "data['Destination Country'] = dest_country \n",
    "data['Source City'] = source_city\n",
    "data['Destination City'] = dest_city\n",
    "data.to_excel(\"ticket1.xlsx\")"
   ]
  }
 ],
 "metadata": {
  "kernelspec": {
   "display_name": "Python 3.10.4 64-bit",
   "language": "python",
   "name": "python3"
  },
  "language_info": {
   "name": "python",
   "version": "3.10.4"
  },
  "orig_nbformat": 4,
  "vscode": {
   "interpreter": {
    "hash": "8c3d4d9970fc5c09c50d9318a9c7fbf4d0159e4b28833276f5678ee22bded273"
   }
  }
 },
 "nbformat": 4,
 "nbformat_minor": 2
}
